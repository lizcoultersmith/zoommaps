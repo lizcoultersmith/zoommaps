{
 "cells": [
  {
   "cell_type": "markdown",
   "metadata": {},
   "source": [
    "# Introduction"
   ]
  },
  {
   "cell_type": "markdown",
   "metadata": {},
   "source": [
    "This notebook will walk you through creating and monitoring your HITs. \n",
    "\n",
    "It provides methods to create HITs, pretty-print HIT and assignment status, expire/edit HITs, create qualifications, and download collected data. \n",
    "\n",
    "Before continuing, make sure that you have read the README and set all config fields to their desired values.\n",
    "\n",
    "## Requirements: \n",
    "\n",
    "This code requires Python3 and the following packages: \n",
    "- boto3 \n",
    "- beautiful soup 4\n",
    "\n",
    "Before using, you will have to set up an authentication key to use the Amazon API and include it in a credentials file. See here: https://aws.amazon.com/developers/getting-started/python/"
   ]
  },
  {
   "cell_type": "markdown",
   "metadata": {},
   "source": [
    "# Setup"
   ]
  },
  {
   "cell_type": "markdown",
   "metadata": {},
   "source": [
    "Read the config file and establish a connection to MTurk.\n",
    "\n",
    "A connection is made to production or to the sandbox based on values in the config. "
   ]
  },
  {
   "cell_type": "code",
   "execution_count": 1,
   "metadata": {},
   "outputs": [],
   "source": [
    "import datetime\n",
    "import boto3\n",
    "import json\n",
    "import copy\n",
    "import pprint\n",
    "from bs4 import BeautifulSoup as bs \n",
    "from uuid import uuid4\n",
    "from Naked.toolshed.shell import muterun_js\n",
    "import json\n",
    "import math\n",
    "from IPython.core.display import display, HTML"
   ]
  },
  {
   "cell_type": "code",
   "execution_count": 2,
   "metadata": {},
   "outputs": [],
   "source": [
    "# Sandbox or Production? You only spend money in Production.\n",
    "USING_PROD = True\n",
    "\n",
    "# Safety flags that prevent you from accidentally messing up your HITs. \n",
    "# Set to False except when you are performing these specific tasks.\n",
    "ALLOW_HIT_CREATION = True\n",
    "ALLOW_ASSIGNMENT_ADDITION = False\n",
    "ALLOW_CREATE_QUAL = True\n",
    "ALLOW_UPDATE_EXPIRATION = False"
   ]
  },
  {
   "cell_type": "code",
   "execution_count": 3,
   "metadata": {},
   "outputs": [
    {
     "name": "stdout",
     "output_type": "stream",
     "text": [
      "USING PROD\n"
     ]
    }
   ],
   "source": [
    "if USING_PROD:\n",
    "    print(\"USING PROD\")\n",
    "    endpoint_url = 'https://mturk-requester.us-east-1.amazonaws.com'\n",
    "    origin=\"production\"\n",
    "else:\n",
    "    print(\"USING SANDBOX\")\n",
    "    endpoint_url = 'https://mturk-requester-sandbox.us-east-1.amazonaws.com'\n",
    "    origin=\"sandbox\"\n",
    "\n",
    "session = boto3.session.Session(profile_name='default')\n",
    "cl = session.client('mturk', region_name='us-east-1', endpoint_url=endpoint_url)"
   ]
  },
  {
   "cell_type": "markdown",
   "metadata": {},
   "source": [
    "# Make new HIT"
   ]
  },
  {
   "cell_type": "code",
   "execution_count": 4,
   "metadata": {},
   "outputs": [],
   "source": [
    "# List of qualifications that you will use to filter potential workers. \n",
    "# These require that workers come from the US and have an approval rating >= 95%\n",
    "# Edit this list to specify different qualifications for workers \n",
    "QUALS = [\n",
    "    {\n",
    "        'QualificationTypeId': '00000000000000000071',\n",
    "        'Comparator': 'EqualTo',\n",
    "        'LocaleValues': [{\n",
    "            'Country': 'US',\n",
    "        }],\n",
    "    },\n",
    "    {\n",
    "        'QualificationTypeId': '000000000000000000L0',\n",
    "        'Comparator': 'GreaterThanOrEqualTo',\n",
    "        'IntegerValues': [\n",
    "            95\n",
    "        ],\n",
    "    },\n",
    "]"
   ]
  },
  {
   "cell_type": "code",
   "execution_count": 5,
   "metadata": {},
   "outputs": [],
   "source": [
    "# generic helper that sets metadata fields based on the config file.\n",
    "def create_hit(task, questionText, quals=QUALS): \n",
    "    if ALLOW_HIT_CREATION:\n",
    "        response = cl.create_hit(\n",
    "            Title=task['title'],\n",
    "            Description=task['description'],\n",
    "            Keywords=','.join(task['keywords']),\n",
    "            MaxAssignments=task['numAssignments'],\n",
    "            Reward=task['rewardAmount'],\n",
    "            AssignmentDurationInSeconds=task['duration'],\n",
    "            LifetimeInSeconds=task['lifetime'],\n",
    "            AutoApprovalDelayInSeconds=604800,\n",
    "            Question=questionText,\n",
    "            QualificationRequirements=quals,\n",
    "        )\n",
    "        print(response)\n",
    "    else:\n",
    "        raise RuntimeError(\"This action is not currently enabled; set `ALLOW_HIT_CREATION` to true to proceed with this action\")\n",
    "\n",
    "# creates a HIT in the form of an External Question inside an iFrame\n",
    "def create_hit_iframe(task):\n",
    "    questionText = \"<ExternalQuestion xmlns=\\\"http://mechanicalturk.amazonaws.com/AWSMechanicalTurkDataSchemas/\"\n",
    "    questionText += \"2006-07-14/ExternalQuestion.xsd\\\">\\n<ExternalURL>\" + task['taskUrl']\n",
    "    questionText += \"</ExternalURL>\\n  <FrameHeight>700</FrameHeight>\\n</ExternalQuestion>\"\n",
    "    create_hit(task, questionText)\n",
    "    \n",
    "# Helper to create a HIT in the form of a simple UI with a link to an external page and an\n",
    "# input box for a completion code \n",
    "def create_hit_external(task):\n",
    "    with open('questionform_template.xml', 'r') as myfile:\n",
    "        template=myfile.read() \n",
    "    question_xml = template % (task[\"title\"], task[\"instructions\"], task['taskUrl'])\n",
    "    create_hit(task, question_xml)"
   ]
  },
  {
   "cell_type": "code",
   "execution_count": 6,
   "metadata": {},
   "outputs": [],
   "source": [
    "# base: a number e.g. 8\n",
    "# nearest: a number (probably \"round\") e.g. 10\n",
    "# exaggeration: a number (probably in the range [1,2]) e.g. 1.25\n",
    "# return: [number, number] a round range\n",
    "def human_range(base, nearest, exaggeration):\n",
    "    base += 0.0001\n",
    "    rmin = math.ceil((base * exaggeration) / nearest) * nearest\n",
    "    rmax = math.ceil((base * exaggeration**2) / nearest) * nearest\n",
    "    rmax = max(rmin + nearest, rmax)\n",
    "    return (rmin, rmax)"
   ]
  },
  {
   "cell_type": "code",
   "execution_count": 7,
   "metadata": {},
   "outputs": [
    {
     "data": {
      "text/html": [
       "<p>This task must be completed on a <strong>mobile device</strong>. In this task, you will be presented with a gallery of <strong>15 Graphic Designer Résumés</strong>. Please inspect each résumé carefully, using the <strong>pinch zoom gesture</strong> on your mobile device to study details. Please spend at least <strong>5-10 seconds</strong> per résumé looking around and zooming. Please swipe right after viewing each résumé to move to the next one. You will not be allowed to submit the HIT unless you have done the task sufficiently thoroughly. The entire task should take you about <strong>4-6 minutes</strong> and must be completed in one sitting. At the end of the task you will be asked:</p><ul><li><strong>Which candidate would you hire and why?</strong></li></ul>"
      ],
      "text/plain": [
       "<IPython.core.display.HTML object>"
      ]
     },
     "metadata": {},
     "output_type": "display_data"
    }
   ],
   "source": [
    "# Use this cell to generate and preview the HIT description\n",
    "\n",
    "dataset = 'graphic_designers_selection' # file in datasets dir (without extension)\n",
    "\n",
    "big_name = 'Graphic Designer Résumés'\n",
    "small_name = 'résumé'\n",
    "\n",
    "# it does some processing of the JSON because different formats are allowed\n",
    "# this keeps that logic in one place\n",
    "response = muterun_js('../utils/read-dataset.js', dataset)\n",
    "if response.exitcode == 0:\n",
    "    dsetinfo = json.loads(response.stdout)\n",
    "    image_sec_range = human_range(dsetinfo['minSecImage'], 5, 1.25)\n",
    "    task_min_range = human_range(dsetinfo['minSecTotal'] / 60, 1, 1.5)\n",
    "else:\n",
    "    print(response.stderr)\n",
    "\n",
    "inst = \"<p>\"\n",
    "inst += \"This task must be completed on a <strong>mobile device</strong>. \"\n",
    "inst += \"In this task, you will be presented with a gallery of <strong>%s %s</strong>. \" % (dsetinfo['numImages'], big_name)\n",
    "inst += \"Please inspect each %s carefully, using the <strong>pinch zoom gesture</strong> on your mobile device to study details. \" % small_name\n",
    "inst += \"Please spend at least <strong>%s-%s seconds</strong> per %s looking around and zooming. \" % (image_sec_range + (small_name,))\n",
    "inst += \"Please swipe right after viewing each %s to move to the next one. \" % small_name\n",
    "inst += \"You will not be allowed to submit the HIT unless you have done the task sufficiently thoroughly. \"\n",
    "inst += \"The entire task should take you about <strong>%s-%s minutes</strong> and must be completed in one sitting. \" % (task_min_range)\n",
    "\n",
    "ques_list = \"\"\n",
    "if dsetinfo['extraQuestions']:\n",
    "    inst += \"At the end of the task you will be asked:\"\n",
    "    ques_list += \"<ul>\"\n",
    "    ques_list += ''.join([\"<li><strong>\" + q + \"</strong></li>\" for q in dsetinfo['extraQuestions']])\n",
    "    ques_list += \"</ul>\"\n",
    "\n",
    "inst += \"</p>\"\n",
    "inst += ques_list\n",
    "display(HTML(inst))"
   ]
  },
  {
   "cell_type": "code",
   "execution_count": 9,
   "metadata": {},
   "outputs": [],
   "source": [
    "# Use this cell to configure your HIT\n",
    "hit_config = {\n",
    "    # you probably want to change these\n",
    "    \"numAssignments\": 16, # per HIT\n",
    "    \"rewardAmount\": \"1.00\",\n",
    "    \"lifetime\": 24 * 60 * 60, # in seconds\n",
    "    # one HIT gets created per dictionary\n",
    "    # you can add items to the dict to override the values above\n",
    "    # alternatively, provide a number to create that many HITs with the default settings\n",
    "    \"HITs\": 1, # IF YOU CHANGE THIS TO A DICT YOU NEED TO INTEGRATE WITH THE CODE ABOVE\n",
    "    # you probably do not want to change these\n",
    "    \"title\": \"Zoom Maps: \" + big_name,\n",
    "    \"description\": \"Pinch and Zoom to look at \" + big_name,\n",
    "    \"instructions\": inst,\n",
    "    \"keywords\": [\"zoom\", \"pinch\", \"gesture\", \"mobile\", \"phone\", \"tablet\", \"image\", \"photo\", \"picture\"],\n",
    "    \"duration\": task_min_range[1] * 60 * 4, # in seconds\n",
    "    \"taskUrl\": \"https://enigmatic-everglades-39931.herokuapp.com?dataset=\" + dataset\n",
    "}\n",
    "\n",
    "external_submit = False # DO NOT CHANGE -- this means use iFrame\n",
    "if isinstance(hit_config['HITs'], int):\n",
    "    hit_config['HITs'] = [{} for i in range(hit_config['HITs'])]"
   ]
  },
  {
   "cell_type": "code",
   "execution_count": 10,
   "metadata": {},
   "outputs": [
    {
     "name": "stdout",
     "output_type": "stream",
     "text": [
      "creating 1 HITs\n",
      "{'HIT': {'HITId': '3V7ICJJAZAP523V3OPUOU5FCBJXB4K', 'HITTypeId': '3ZY5FK1Q9GYAUQFXYPU31GO86WA8O1', 'HITGroupId': '3HMDDQ196BEL6TRDI3LAK7IU5ZF3SK', 'CreationTime': datetime.datetime(2019, 4, 1, 13, 47, 1, tzinfo=tzlocal()), 'Title': 'Zoom Maps: Graphic Designer Résumés', 'Description': 'Pinch and Zoom to look at Graphic Designer Résumés', 'Question': '<ExternalQuestion xmlns=\"http://mechanicalturk.amazonaws.com/AWSMechanicalTurkDataSchemas/2006-07-14/ExternalQuestion.xsd\">\\n<ExternalURL>https://enigmatic-everglades-39931.herokuapp.com?dataset=graphic_designers_selection</ExternalURL>\\n  <FrameHeight>700</FrameHeight>\\n</ExternalQuestion>', 'Keywords': 'zoom,pinch,gesture,mobile,phone,tablet,image,photo,picture', 'HITStatus': 'Assignable', 'MaxAssignments': 16, 'Reward': '1.00', 'AutoApprovalDelayInSeconds': 604800, 'Expiration': datetime.datetime(2019, 4, 2, 13, 47, 1, tzinfo=tzlocal()), 'AssignmentDurationInSeconds': 1440, 'QualificationRequirements': [{'QualificationTypeId': '00000000000000000071', 'Comparator': 'EqualTo', 'LocaleValues': [{'Country': 'US'}], 'RequiredToPreview': False, 'ActionsGuarded': 'Accept'}, {'QualificationTypeId': '000000000000000000L0', 'Comparator': 'GreaterThanOrEqualTo', 'IntegerValues': [95], 'RequiredToPreview': False, 'ActionsGuarded': 'Accept'}], 'HITReviewStatus': 'NotReviewed', 'NumberOfAssignmentsPending': 0, 'NumberOfAssignmentsAvailable': 16, 'NumberOfAssignmentsCompleted': 0}, 'ResponseMetadata': {'RequestId': '41f7f64e-c674-4511-9ebb-cc3b5e6a075d', 'HTTPStatusCode': 200, 'HTTPHeaders': {'x-amzn-requestid': '41f7f64e-c674-4511-9ebb-cc3b5e6a075d', 'content-type': 'application/x-amz-json-1.1', 'content-length': '1297', 'date': 'Mon, 01 Apr 2019 17:47:00 GMT'}, 'RetryAttempts': 0}}\n"
     ]
    }
   ],
   "source": [
    "# Use this cell to launch your HIT! \n",
    "hit_creation_function = create_hit_external if external_submit else create_hit_iframe\n",
    "\n",
    "print(\"creating \" + str(len(hit_config['HITs'])) + \" HITs\")\n",
    "for hit_config_override in hit_config['HITs']: \n",
    "    task = copy.deepcopy(hit_config)\n",
    "    task.update(hit_config_override)\n",
    "    hit_creation_function(task)"
   ]
  },
  {
   "cell_type": "markdown",
   "metadata": {},
   "source": [
    "# HIT monitoring helpers"
   ]
  },
  {
   "cell_type": "markdown",
   "metadata": {},
   "source": [
    "Helper functions that will be useful for monitoring the status of your HIT. See next section for how to use them."
   ]
  },
  {
   "cell_type": "code",
   "execution_count": 5,
   "metadata": {},
   "outputs": [],
   "source": [
    "# Contacts MTurk API to get all assignments for a HIT\n",
    "# Returns them in a list. \n",
    "def get_all_assignments(hitid): \n",
    "    assignments = []\n",
    "    should_continue = True\n",
    "    next_token = False\n",
    "    while (should_continue): \n",
    "        args = {\n",
    "            'HITId': hitid, \n",
    "            'MaxResults': 100\n",
    "        }\n",
    "        if (next_token): \n",
    "            args['NextToken'] = next_token\n",
    "        r = cl.list_assignments_for_hit(**args)\n",
    "        next_token = r.get('NextToken', False)\n",
    "        assignments.extend(r[\"Assignments\"])\n",
    "        should_continue = len(r[\"Assignments\"]) > 0\n",
    "    return assignments\n",
    "\n",
    "# Summarizes all hits in `hits` in a human-readable way. \n",
    "# Prints out the HIT Title, id, if it is expired, and how many assignments it has\n",
    "# completed, pending, and left for work. \n",
    "def summarize_hits(hits): \n",
    "    ret = \"\"\n",
    "    for hit in hits: \n",
    "        expiration = hit['Expiration'].replace(tzinfo=None)\n",
    "        is_expired = expiration < datetime.datetime.now()\n",
    "        available = hit['NumberOfAssignmentsAvailable']\n",
    "        pending = hit['NumberOfAssignmentsPending']\n",
    "        approved = hit['NumberOfAssignmentsCompleted']\n",
    "        completed = hit['MaxAssignments'] - available - pending - approved\n",
    "        description = (\"Title: {title}\\n\" \n",
    "        \"ID: {hid}\\n\"\n",
    "        \"\\tAssignments available: {left}\\n\"\n",
    "        \"\\tAssignments pending: {pending}\\n\"\n",
    "        \"\\tAssignments awaiting approval: {completed}\\n\"\n",
    "        \"\\tAssignments completed (approved): {approved}\\n\"\n",
    "        \"\\tExpired: {exp}\\n\\n\").format(\n",
    "            title=hit['Title'], \n",
    "            hid=hit['HITId'], \n",
    "            left=available, \n",
    "            pending=pending,\n",
    "            completed=completed,\n",
    "            approved=approved,\n",
    "            exp=str(is_expired)\n",
    "        )\n",
    "        ret += description\n",
    "    print(ret)\n",
    "    \n",
    "# Prints a human-readable summary of all pending/submitted/approved assignments for all hits in `hits`\n",
    "def summarize_assignments(hits):\n",
    "    ret = \"\"\n",
    "    for hit in hits: \n",
    "        hid = hit['HITId']\n",
    "        title =  hit['Title']\n",
    "        name = \"HIT %s: %s\" % (hid, title)\n",
    "        ret += name + \"\\n\"\n",
    "        assignments = get_all_assignments(hid)\n",
    "        if len(assignments) == 0: \n",
    "            ret += \"\\tNo pending/submitted/approved assignments for this HIT\\n\"\n",
    "        for a in assignments: \n",
    "            desc = \"\\tAssignment {aid}\\n\\t\\tStatus: {status}\\n\".format(aid=a['AssignmentId'], status=a['AssignmentStatus'])\n",
    "            ret += desc\n",
    "    print(ret)\n",
    "    \n",
    "# Refreshes data about the requested hits\n",
    "def get_last_n_hits(n=1, offset=0): \n",
    "    return cl.list_hits(MaxResults=(n + offset))['HITs'][offset:]"
   ]
  },
  {
   "cell_type": "markdown",
   "metadata": {},
   "source": [
    "# HIT monitoring"
   ]
  },
  {
   "cell_type": "code",
   "execution_count": 31,
   "metadata": {},
   "outputs": [],
   "source": [
    "# refresh hits\n",
    "hits = get_last_n_hits(1, 50)"
   ]
  },
  {
   "cell_type": "code",
   "execution_count": 32,
   "metadata": {},
   "outputs": [
    {
     "name": "stdout",
     "output_type": "stream",
     "text": [
      "Title: Zoom Maps: Graphic Designer Résumés\n",
      "ID: 3V7ICJJAZAP523V3OPUOU5FCBJXB4K\n",
      "\tAssignments available: 0\n",
      "\tAssignments pending: 0\n",
      "\tAssignments awaiting approval: 16\n",
      "\tAssignments completed (approved): 0\n",
      "\tExpired: True\n",
      "\n",
      "\n"
     ]
    }
   ],
   "source": [
    "# Summarizes all outstanding HITs\n",
    "summarize_hits(hits)"
   ]
  },
  {
   "cell_type": "code",
   "execution_count": 11,
   "metadata": {},
   "outputs": [
    {
     "name": "stdout",
     "output_type": "stream",
     "text": [
      "HIT 3S1WOPCJFG2TCOQ81NJI1FAGWBCJER: Zoom Maps: Natural Images\n",
      "\tAssignment 3X87C8JFV7LEVEXXNASXBGM3ZLLSQD\n",
      "\t\tStatus: Submitted\n",
      "\tAssignment 3IOEN3P9S8TLRCFJVIZF9AI39KX61B\n",
      "\t\tStatus: Submitted\n",
      "\tAssignment 320DUZ38G8WUJMKTXKE7P1REXFZGJQ\n",
      "\t\tStatus: Submitted\n",
      "\tAssignment 3EICBYG6456H2A4OVYIOZA6ZZN7JCJ\n",
      "\t\tStatus: Submitted\n",
      "\n"
     ]
    }
   ],
   "source": [
    "# Summarizes assignments for all oustanding HITs \n",
    "summarize_assignments(hits)"
   ]
  },
  {
   "cell_type": "markdown",
   "metadata": {},
   "source": [
    "# Approve HITs"
   ]
  },
  {
   "cell_type": "markdown",
   "metadata": {},
   "source": [
    "Approves all outstanding assignments for the HITs displayed above. "
   ]
  },
  {
   "cell_type": "code",
   "execution_count": 9,
   "metadata": {},
   "outputs": [],
   "source": [
    "def approve_all(hits): \n",
    "    num_approved = 0\n",
    "    for hit in hits: \n",
    "        # make sure you keep getting assignments \n",
    "        assignments = get_all_assignments(hit[\"HITId\"])\n",
    "        #print(assignments)\n",
    "        for a in assignments: \n",
    "            if a['AssignmentStatus'] != 'Approved':\n",
    "                print(\"Approving assignment\")\n",
    "                num_approved += 1\n",
    "                cl.approve_assignment(AssignmentId=a['AssignmentId'])\n",
    "    print(\"Approved %d assignments\" % num_approved)"
   ]
  },
  {
   "cell_type": "code",
   "execution_count": 33,
   "metadata": {},
   "outputs": [
    {
     "name": "stdout",
     "output_type": "stream",
     "text": [
      "Approving assignment\n",
      "Approving assignment\n",
      "Approving assignment\n",
      "Approving assignment\n",
      "Approving assignment\n",
      "Approving assignment\n",
      "Approving assignment\n",
      "Approving assignment\n",
      "Approving assignment\n",
      "Approving assignment\n",
      "Approving assignment\n",
      "Approving assignment\n",
      "Approving assignment\n",
      "Approving assignment\n",
      "Approving assignment\n",
      "Approving assignment\n",
      "Approved 16 assignments\n"
     ]
    }
   ],
   "source": [
    "approve_all(hits)"
   ]
  },
  {
   "cell_type": "markdown",
   "metadata": {},
   "source": [
    "# Update expiration or num tasks"
   ]
  },
  {
   "cell_type": "code",
   "execution_count": 16,
   "metadata": {},
   "outputs": [],
   "source": [
    "# changes the expiration date on a HIT to days_from_now days in the future\n",
    "def update_expiration(hitid, days_from_now): \n",
    "    if ALLOW_UPDATE_EXPIRATION: \n",
    "        days = days_from_now*datetime.timedelta(days=1)\n",
    "        expire_time = datetime.datetime.now() + days\n",
    "\n",
    "        response = cl.update_expiration_for_hit(HITId=hitid, ExpireAt=expire_time)\n",
    "        print(response)\n",
    "        return response\n",
    "    else: \n",
    "        raise RuntimeError(\"This action is not currently enabled; set `ALLOW_UPDATE_EXPIRATION` to true to proceed with this action\")\n",
    "    \n",
    "def expire_hit(hit): \n",
    "    return update_expiration(hit, -10)"
   ]
  },
  {
   "cell_type": "code",
   "execution_count": 17,
   "metadata": {},
   "outputs": [],
   "source": [
    "def add_assignments(hitid, num_assignments): \n",
    "    if ALLOW_ASSIGNMENT_ADDITION: \n",
    "        response = cl.create_additional_assignments_for_hit(\n",
    "            HITId=hitid,\n",
    "            NumberOfAdditionalAssignments=num_assignments\n",
    "        )\n",
    "        print(response)\n",
    "        return response\n",
    "    else: \n",
    "        raise RuntimeError(\"This action is not currently enabled; set `ALLOW_ASSIGNMENT_ADDITION` to true to proceed with this action\")"
   ]
  },
  {
   "cell_type": "code",
   "execution_count": null,
   "metadata": {},
   "outputs": [],
   "source": [
    "# Use this cell to expire a HIT \n",
    "hit_id = ''\n",
    "expire_hit(hit_id)"
   ]
  },
  {
   "cell_type": "code",
   "execution_count": null,
   "metadata": {},
   "outputs": [],
   "source": [
    "# Use this cell to update a HIT's expiration date\n",
    "hitid = ''\n",
    "days_from_now = 1\n",
    "update_expiration(hit_id, days_from_now)"
   ]
  },
  {
   "cell_type": "code",
   "execution_count": null,
   "metadata": {},
   "outputs": [],
   "source": [
    "# Use this cell to add assignments to a HIT \n",
    "hit_id = \"FILL THIS IN\"\n",
    "num_assignments_to_add = 0\n",
    "add_assignments(hit_id, num_assignments_to_add)"
   ]
  },
  {
   "cell_type": "markdown",
   "metadata": {},
   "source": [
    "# Add custom qualifications "
   ]
  },
  {
   "cell_type": "markdown",
   "metadata": {},
   "source": [
    "## Add a qualification to disqualify workers who have done work before\n",
    "\n",
    "- uses \"negative qualification\" method from https://github.com/cloudyr/MturkR/wiki/qualifications-as-blocks\n",
    "\n",
    "#### NOTE: quals are kept separate for the sandbox and prod. Make sure you are creating and assigning your quals in prod. "
   ]
  },
  {
   "cell_type": "markdown",
   "metadata": {},
   "source": [
    "### Structure of a new qualification"
   ]
  },
  {
   "cell_type": "code",
   "execution_count": null,
   "metadata": {},
   "outputs": [],
   "source": [
    "NEW_QUAL = {\n",
    "    'Name': 'qualName',\n",
    "    'Keywords': ['keywords', 'for', 'qual'],\n",
    "    'Description': 'What is this qual, and why are you assigning it?',\n",
    "    'QualificationTypeStatus': 'Active',\n",
    "    'AutoGranted': False\n",
    "}"
   ]
  },
  {
   "cell_type": "markdown",
   "metadata": {},
   "source": [
    "### Helpers for creating, viewing, and assigning qualifications"
   ]
  },
  {
   "cell_type": "code",
   "execution_count": 24,
   "metadata": {},
   "outputs": [],
   "source": [
    "# Registers a custom qualification with MTurk \n",
    "def create_qual(new_qual):\n",
    "    if ALLOW_CREATE_QUAL:\n",
    "        qual_kwargs = copy.deepcopy(new_qual)\n",
    "        qual_kwargs['Keywords'] = ','.join(qual_kwargs['Keywords'])\n",
    "        response = cl.create_qualification_type(**qual_kwargs)\n",
    "#         print(response)\n",
    "        Id = response['QualificationType']['QualificationTypeId']\n",
    "        return Id\n",
    "    else: \n",
    "        raise RuntimException(\"This action is not currently enabled; set `ALLOW_CREATE_QUAL` to true to proceed with this action\")\n",
    "        \n",
    "# Gets all the custom quals you have created and prints them\n",
    "def list_quals(): \n",
    "    response = cl.list_qualification_types(\n",
    "            Query='hasCompletedVisualGraphRecallTask',\n",
    "            MustBeRequestable=False\n",
    "    )\n",
    "    print(response)\n",
    "    \n",
    "# Assigns a qualification to a worker \n",
    "def assign_qual(qual_id, worker_ids): \n",
    "    for worker in worker_ids: \n",
    "        response = cl.associate_qualification_with_worker(\n",
    "                QualificationTypeId=qual_id, \n",
    "                WorkerId=worker,\n",
    "                IntegerValue=1,\n",
    "                SendNotification=False\n",
    "        )\n",
    "        print(response)\n",
    "        assert response\n",
    "        \n",
    "# Gets the ids of all workers who worked on a particular hit \n",
    "def get_workers_for_hit(hitid): \n",
    "    a = get_all_assignments(hitid)\n",
    "    workers = [a_['WorkerId'] for a_ in a]\n",
    "    return workers\n",
    "    \n",
    "# Confirms that every worker in worker_ids has qual with qual_id\n",
    "def confirm_quals(qual_id, worker_ids): \n",
    "    for w in worker_ids: \n",
    "        response = cl.get_qualification_score(\n",
    "                QualificationTypeId=qual_id,\n",
    "                WorkerId=w\n",
    "        )\n",
    "        response = response['Qualification']\n",
    "        assert response['Status'] == 'Granted'\n",
    "        assert response['IntegerValue'] == 1\n",
    "        \n",
    "# Assigns qual with `qual_id` to every worker who has completed an assignment for the hit with `hitid`\n",
    "def assign_qual_for_hit(hitid, qual_id): \n",
    "    workers = get_workers_for_hit(hitid)\n",
    "    print(\"got workers\")\n",
    "    assign_qual(qual_id, workers)\n",
    "    print(\"assigned qual\")\n",
    "    confirm_quals(qual_id, workers)\n",
    "    print(\"confirmed qual\")"
   ]
  },
  {
   "cell_type": "markdown",
   "metadata": {},
   "source": [
    "### Use the following cells to manipulate qualifications"
   ]
  },
  {
   "cell_type": "code",
   "execution_count": null,
   "metadata": {},
   "outputs": [],
   "source": [
    "# Use this cell to view the custom qualifications you have created\n",
    "list_quals()"
   ]
  },
  {
   "cell_type": "code",
   "execution_count": null,
   "metadata": {},
   "outputs": [],
   "source": [
    "# Use this cell to create a new qual \n",
    "qual_to_create = {}\n",
    "create_qual(qual_to_create)"
   ]
  },
  {
   "cell_type": "code",
   "execution_count": null,
   "metadata": {},
   "outputs": [],
   "source": [
    "# Use this cell to assign a custom qual to every worker who has done a specific HIT\n",
    "hit_id = \"FILL THIS IN\"\n",
    "qual_id_to_assign = \"FILL THIS IN\"\n",
    "assign_qual_for_hit(hit_id, qual_id_to_assign)"
   ]
  },
  {
   "cell_type": "markdown",
   "metadata": {},
   "source": [
    "# Create Compensation HIT\n",
    "\n",
    "Mistakes happen, and sometimes they can lead to a worker who put in an honest effort being unable to complete a task and get paid. It's a good idea to compensate these workers when they reach out because it helps maintain relations with workers and is the right thing to do.\n",
    "\n",
    "However, workers can only be paid upon completing a task. The workaround is to create a custom qualification, assign it to the worker you want to compensate, and create a no-work HIT requiring the custom qualification. This code does that."
   ]
  },
  {
   "cell_type": "code",
   "execution_count": 25,
   "metadata": {},
   "outputs": [],
   "source": [
    "# worker_ids is str[]\n",
    "# compensation is str but should match the regex ^\\d*\\.\\d\\d$ (e.g. \"1.00\")\n",
    "# for_hit_id is str -- optional, but helpful for records\n",
    "def compensate_workers(worker_ids, compensation, for_hit_id=\"\"):\n",
    "    with open('compensation.xml', 'r') as myfile:\n",
    "        question_xml=myfile.read()\n",
    "\n",
    "    keywords = ['compensation']\n",
    "    description = 'Compensation for HIT'\n",
    "    if for_hit_id:\n",
    "        keywords.append(for_hit_id)\n",
    "        description += ' ' + for_hit_id\n",
    "\n",
    "    # create qual, assign to workers\n",
    "    custom_qual = {\n",
    "        'Name': str(uuid4()), # a qual must have a unique name\n",
    "        'Keywords': keywords,\n",
    "        'Description': description,\n",
    "        'QualificationTypeStatus': 'Active',\n",
    "        'AutoGranted': False\n",
    "    }\n",
    "    qual_id = create_qual(custom_qual)\n",
    "    assign_qual(qual_id, worker_ids)\n",
    "\n",
    "    # create HIT requiring qual\n",
    "    task = {\n",
    "        'numAssignments': len(worker_ids),\n",
    "        'lifetime': 3 * 24 * 60 * 60, # 3 days\n",
    "        'duration': 5 * 60, # 5 min\n",
    "        'rewardAmount': compensation,\n",
    "        'title': description,\n",
    "        'keywords': keywords,\n",
    "        'description': description,\n",
    "    }\n",
    "    quals = [{\n",
    "        'QualificationTypeId': qual_id,\n",
    "        'Comparator': 'Exists',\n",
    "        'ActionsGuarded': 'DiscoverPreviewAndAccept'\n",
    "    }]\n",
    "    create_hit(task, question_xml, quals)"
   ]
  },
  {
   "cell_type": "code",
   "execution_count": 26,
   "metadata": {},
   "outputs": [
    {
     "name": "stdout",
     "output_type": "stream",
     "text": [
      "{'ResponseMetadata': {'RequestId': '3e79a5ec-4daf-4afd-8075-1453498b3735', 'HTTPStatusCode': 200, 'HTTPHeaders': {'x-amzn-requestid': '3e79a5ec-4daf-4afd-8075-1453498b3735', 'content-type': 'application/x-amz-json-1.1', 'content-length': '2', 'date': 'Mon, 01 Apr 2019 17:00:28 GMT'}, 'RetryAttempts': 0}}\n",
      "{'HIT': {'HITId': '3A9LA2FRWSN6RIMZ8S6PDRF8ZR6HXK', 'HITTypeId': '3V48FT89115BE4Q4CDCHY28HR7PMJK', 'HITGroupId': '3D8O2NKTAGQLC9SJ5K6QO6VLF0X31X', 'CreationTime': datetime.datetime(2019, 4, 1, 13, 0, 29, tzinfo=tzlocal()), 'Title': 'Compensation for HIT 348YRR1X129MQDEUU8XZE2HQP2O0ZK', 'Description': 'Compensation for HIT 348YRR1X129MQDEUU8XZE2HQP2O0ZK', 'Question': '<QuestionForm xmlns=\"http://mechanicalturk.amazonaws.com/AWSMechanicalTurkDataSchemas/2005-10-01/QuestionForm.xsd\">\\n    <Overview>\\n        <FormattedContent><![CDATA[\\n            <h1><strong>Compensation HIT</strong></h1>\\n            <h2>Description</h2>\\n            <h4>We\\'re sorry you experienced a problem with one of our HITs. Please accept our apologies and compensation for your time.</h4>\\n            <h2>Instructions:</h2>\\n            <h4>Enter your worker ID in the box below.</h4>\\n        ]]>\\n        </FormattedContent>\\n    </Overview>\\n    <Question>\\n        <QuestionIdentifier>workerId</QuestionIdentifier>\\n        <DisplayName>Worker ID</DisplayName>\\n        <IsRequired>true</IsRequired>\\n        <QuestionContent>\\n            <Text>Please enter your worker ID here: </Text>\\n        </QuestionContent>\\n        <AnswerSpecification>\\n            <FreeTextAnswer>\\n                <NumberOfLinesSuggestion>1</NumberOfLinesSuggestion>\\n            </FreeTextAnswer>\\n        </AnswerSpecification>\\n    </Question>\\n</QuestionForm>\\n', 'Keywords': 'compensation,348YRR1X129MQDEUU8XZE2HQP2O0ZK', 'HITStatus': 'Assignable', 'MaxAssignments': 1, 'Reward': '2.00', 'AutoApprovalDelayInSeconds': 604800, 'Expiration': datetime.datetime(2019, 4, 4, 13, 0, 29, tzinfo=tzlocal()), 'AssignmentDurationInSeconds': 300, 'QualificationRequirements': [{'QualificationTypeId': '3UV56NE1CN9Q86HQ50XF1CF1A9IEH2', 'Comparator': 'Exists', 'RequiredToPreview': True, 'ActionsGuarded': 'DiscoverPreviewAndAccept'}], 'HITReviewStatus': 'NotReviewed', 'NumberOfAssignmentsPending': 0, 'NumberOfAssignmentsAvailable': 1, 'NumberOfAssignmentsCompleted': 0}, 'ResponseMetadata': {'RequestId': 'd970968c-5c3e-4606-b9a3-20ce9eb1f2d4', 'HTTPStatusCode': 200, 'HTTPHeaders': {'x-amzn-requestid': 'd970968c-5c3e-4606-b9a3-20ce9eb1f2d4', 'content-type': 'application/x-amz-json-1.1', 'content-length': '1899', 'date': 'Mon, 01 Apr 2019 17:00:28 GMT'}, 'RetryAttempts': 0}}\n"
     ]
    }
   ],
   "source": [
    "worker_ids = ['A2X977GVQ6L90X'] # worker_id strings in a list\n",
    "compensation = \"2.00\" # change to the amount of dollars you want to give\n",
    "for_hit_id = \"348YRR1X129MQDEUU8XZE2HQP2O0ZK\" # hit_id string (what you are compensating for)compensate_workers(worker_ids, compensation, for_hit_id)\n",
    "compensate_workers(worker_ids, compensation, for_hit_id)"
   ]
  },
  {
   "cell_type": "markdown",
   "metadata": {},
   "source": [
    "# Download data"
   ]
  },
  {
   "cell_type": "markdown",
   "metadata": {},
   "source": [
    "Helper to download data from MTurk "
   ]
  },
  {
   "cell_type": "code",
   "execution_count": 12,
   "metadata": {},
   "outputs": [],
   "source": [
    "def pretty_print(obj):\n",
    "    pp = pprint.PrettyPrinter(indent=4)\n",
    "    pp.pprint(obj)\n",
    "    pp = None\n",
    "\n",
    "# Downloads all the assignments completed for `hits` as a list of dictionaries. \n",
    "# If a download_path is given, also saves that data as json \n",
    "def get_assignment_content(hits, download_path=\"\", should_print=False): \n",
    "    all_responses = []\n",
    "    for hit in hits: \n",
    "        hitid = hit['HITId']\n",
    "        assignments = get_all_assignments(hitid)\n",
    "        for a in assignments:\n",
    "            a_xml = a['Answer']\n",
    "            #print(a_xml)\n",
    "            soup = bs(a_xml, \"html.parser\")\n",
    "            answers = soup.find_all(\"answer\")\n",
    "            #print(answers)\n",
    "            results = {'HITId': a['HITId'], 'AssignmentId': a['AssignmentId'], 'WorkerId': a['WorkerId']}\n",
    "            for ans in answers: \n",
    "                identifier = ans.find('questionidentifier').string\n",
    "                answer = ans.find('freetext').string\n",
    "                try: \n",
    "                    results[identifier] = json.loads(answer)\n",
    "                except:\n",
    "                    results[identifier] = answer\n",
    "            all_responses.append(results)\n",
    "    if should_print: \n",
    "        pretty_print(all_responses)\n",
    "    if download_path: \n",
    "        with open(download_path, 'w') as outfile: \n",
    "            json.dump(all_responses, outfile)\n",
    "    return all_responses\n",
    "            "
   ]
  },
  {
   "cell_type": "code",
   "execution_count": 35,
   "metadata": {},
   "outputs": [
    {
     "name": "stdout",
     "output_type": "stream",
     "text": [
      "[   {   'AssignmentId': '34J10VATJG8P10U1IYYJ7EGGQTIQIU',\n",
      "        'HITId': '3V7ICJJAZAP523V3OPUOU5FCBJXB4K',\n",
      "        'WorkerId': 'A320QA9HJFUOZO',\n",
      "        'userId': '5ca24ecc9a36280017a99475'},\n",
      "    {   'AssignmentId': '3WS1NTTKEZMH3GNC0SYJPBC6XXT0FG',\n",
      "        'HITId': '3V7ICJJAZAP523V3OPUOU5FCBJXB4K',\n",
      "        'WorkerId': 'A1SX8IVV82M0LW',\n",
      "        'userId': '5ca2503d9a36280017a994a0'},\n",
      "    {   'AssignmentId': '3V5Q80FXIY1TJEAXVK1V7QGOR5832U',\n",
      "        'HITId': '3V7ICJJAZAP523V3OPUOU5FCBJXB4K',\n",
      "        'WorkerId': 'A3CH1Z6J9R38G9',\n",
      "        'userId': '5ca24f689a36280017a99477'},\n",
      "    {   'AssignmentId': '3OB0CAO74IZYE7A33QXSKOI3PPKYHC',\n",
      "        'HITId': '3V7ICJJAZAP523V3OPUOU5FCBJXB4K',\n",
      "        'WorkerId': 'A1BSL1VC7PQR04',\n",
      "        'userId': '5ca250769a36280017a994b3'},\n",
      "    {   'AssignmentId': '3QILPRALQ65B9X5WTKUBQVRXIMR8NI',\n",
      "        'HITId': '3V7ICJJAZAP523V3OPUOU5FCBJXB4K',\n",
      "        'WorkerId': 'A35565UGJN9V6Q',\n",
      "        'userId': '5ca250c99a36280017a994d1'},\n",
      "    {   'AssignmentId': '39L1G8WVWR1MUTS1CG1H276JZZU31D',\n",
      "        'HITId': '3V7ICJJAZAP523V3OPUOU5FCBJXB4K',\n",
      "        'WorkerId': 'A36AB7LJRSNHQM',\n",
      "        'userId': '5ca2506b9a36280017a994b1'},\n",
      "    {   'AssignmentId': '3V0Z7YWSIZADVNCGFU71QL87IP12VQ',\n",
      "        'HITId': '3V7ICJJAZAP523V3OPUOU5FCBJXB4K',\n",
      "        'WorkerId': 'A1PEUJ23G02GUZ',\n",
      "        'userId': '5ca252b29a36280017a99562'},\n",
      "    {   'AssignmentId': '31EUONYN2WDR2U1L2S5YXYBAJUWVOO',\n",
      "        'HITId': '3V7ICJJAZAP523V3OPUOU5FCBJXB4K',\n",
      "        'WorkerId': 'APEHS2JTA3FZJ',\n",
      "        'userId': '5ca250bc9a36280017a994cd'},\n",
      "    {   'AssignmentId': '3WJ1OXY92BQ4PEB7KGP64P7XJGU8A2',\n",
      "        'HITId': '3V7ICJJAZAP523V3OPUOU5FCBJXB4K',\n",
      "        'WorkerId': 'AHPCI0X85ZUR1',\n",
      "        'userId': '5ca2548f9a36280017a995c9'},\n",
      "    {   'AssignmentId': '3OHYZ19UGDF7A6YNRXE21BXXYLYOAL',\n",
      "        'HITId': '3V7ICJJAZAP523V3OPUOU5FCBJXB4K',\n",
      "        'WorkerId': 'A2UXVNIR273792',\n",
      "        'userId': '5ca254bd9a36280017a995d2'},\n",
      "    {   'AssignmentId': '3HFNH7HEMIOB59O6SAYGM230BHYQGC',\n",
      "        'HITId': '3V7ICJJAZAP523V3OPUOU5FCBJXB4K',\n",
      "        'WorkerId': 'ANNVWKERLZG9A',\n",
      "        'userId': '5ca257d19a36280017a99640'},\n",
      "    {   'AssignmentId': '3S06PH7KSSEKCLUY557TFGSVQDQ1DI',\n",
      "        'HITId': '3V7ICJJAZAP523V3OPUOU5FCBJXB4K',\n",
      "        'WorkerId': 'A2T11H7YI7QPGD',\n",
      "        'userId': '5ca259bb9a36280017a99661'},\n",
      "    {   'AssignmentId': '3ZGVPD4G6UROO6B3Z6G0CEUT6EOTZF',\n",
      "        'HITId': '3V7ICJJAZAP523V3OPUOU5FCBJXB4K',\n",
      "        'WorkerId': 'A11UBOE8N877JJ',\n",
      "        'userId': '5ca258609a36280017a99645'},\n",
      "    {   'AssignmentId': '3ZDAD0O1T2NZJBBOYOSFFTEIYETXTP',\n",
      "        'HITId': '3V7ICJJAZAP523V3OPUOU5FCBJXB4K',\n",
      "        'WorkerId': 'AYEUCZ5YUJ73L',\n",
      "        'userId': '5ca259119a36280017a9964f'},\n",
      "    {   'AssignmentId': '32SVAV9L3GJIOH518ZUAD8ZM3UY3A1',\n",
      "        'HITId': '3V7ICJJAZAP523V3OPUOU5FCBJXB4K',\n",
      "        'WorkerId': 'AMSAIACF91GM3',\n",
      "        'userId': '5ca279bc9a36280017a99739'},\n",
      "    {   'AssignmentId': '3U5NZHP4LSC45TI2C3197XPRLLJPHD',\n",
      "        'HITId': '3V7ICJJAZAP523V3OPUOU5FCBJXB4K',\n",
      "        'WorkerId': 'A3DB8QTQS5J8MM',\n",
      "        'userId': '5ca27dfc9a36280017a9974e'}]\n"
     ]
    }
   ],
   "source": [
    "# Use this cell to download data\n",
    "SAVE_PATH = '../mturk-4.json'\n",
    "responses = get_assignment_content(hits, download_path=SAVE_PATH, should_print=True)"
   ]
  },
  {
   "cell_type": "code",
   "execution_count": null,
   "metadata": {},
   "outputs": [],
   "source": []
  }
 ],
 "metadata": {
  "kernelspec": {
   "display_name": "Python 3",
   "language": "python",
   "name": "python3"
  },
  "language_info": {
   "codemirror_mode": {
    "name": "ipython",
    "version": 3
   },
   "file_extension": ".py",
   "mimetype": "text/x-python",
   "name": "python",
   "nbconvert_exporter": "python",
   "pygments_lexer": "ipython3",
   "version": "3.7.2"
  }
 },
 "nbformat": 4,
 "nbformat_minor": 2
}
